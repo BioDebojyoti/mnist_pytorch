{
 "cells": [
  {
   "cell_type": "code",
   "execution_count": 5,
   "id": "93317bba-e57d-43e8-bdd8-c8558cbddb27",
   "metadata": {},
   "outputs": [],
   "source": [
    "import sys\n",
    "import os\n",
    "\n",
    "# Add the root directory of your project to the sys.path\n",
    "sys.path.append(os.path.abspath(os.path.join(os.getcwd(), '..')))  # Adjust based on your folder structure"
   ]
  },
  {
   "cell_type": "code",
   "execution_count": 6,
   "id": "ce219c77-bb33-4f9a-979d-8da9e60483cc",
   "metadata": {},
   "outputs": [
    {
     "name": "stdout",
     "output_type": "stream",
     "text": [
      "./.ipynb_checkpoints/test_mnist-checkpoint.ipynb\n",
      "./test_mnist.ipynb\n",
      "./.ipynb_checkpoints\n"
     ]
    }
   ],
   "source": [
    "for root, dirs, files in os.walk(\".\", topdown=False):\n",
    "   for name in files:\n",
    "      print(os.path.join(root, name))\n",
    "   for name in dirs:\n",
    "      print(os.path.join(root, name))"
   ]
  },
  {
   "cell_type": "code",
   "execution_count": 7,
   "id": "some_unique_id",
   "metadata": {},
   "outputs": [],
   "source": [
    "import torch\n",
    "import matplotlib.pyplot as plt\n",
    "from data.dataset import get_mnist_dataloader\n",
    "from models.model import SimpleNN\n",
    "from train.train import evaluate_model"
   ]
  },
  {
   "cell_type": "code",
   "execution_count": 8,
   "id": "a0450ac0-7402-4dba-b5d0-b6716f949394",
   "metadata": {},
   "outputs": [],
   "source": [
    "# Hyperparameters\n",
    "INPUT_SIZE = 28 * 28  # MNIST images are 28x28 pixels\n",
    "HIDDEN_SIZE = 128\n",
    "OUTPUT_SIZE = 10  # Digits 0-9\n",
    "BATCH_SIZE = 64\n",
    "EPOCHS = 5\n",
    "LEARNING_RATE = 0.001"
   ]
  },
  {
   "cell_type": "code",
   "execution_count": 9,
   "id": "76317669-b67d-4159-86b9-b0dda473814e",
   "metadata": {},
   "outputs": [
    {
     "name": "stdout",
     "output_type": "stream",
     "text": [
      "Using device: mps\n"
     ]
    }
   ],
   "source": [
    "# Check for GPU availability\n",
    "device = torch.device('mps' if torch.backends.mps.is_available() else 'cpu')\n",
    "print(f'Using device: {device}')"
   ]
  },
  {
   "cell_type": "code",
   "execution_count": 10,
   "id": "3d5746ba-6ab6-451c-9fc0-4da4ed7fb09c",
   "metadata": {},
   "outputs": [
    {
     "name": "stderr",
     "output_type": "stream",
     "text": [
      "100.0%\n",
      "100.0%\n",
      "100.0%\n",
      "100.0%\n"
     ]
    }
   ],
   "source": [
    "# Load Data\n",
    "train_loader, test_loader = get_mnist_dataloader(batch_size=BATCH_SIZE)\n",
    "\n",
    "# Initialize Model\n",
    "model = SimpleNN(INPUT_SIZE, HIDDEN_SIZE, OUTPUT_SIZE).to(device)"
   ]
  },
  {
   "cell_type": "code",
   "execution_count": 11,
   "id": "fdf4c251-8f1b-454a-bcae-0807fce903db",
   "metadata": {},
   "outputs": [
    {
     "data": {
      "text/plain": [
       "SimpleNN(\n",
       "  (fc1): Linear(in_features=784, out_features=128, bias=True)\n",
       "  (fc2): Linear(in_features=128, out_features=10, bias=True)\n",
       ")"
      ]
     },
     "execution_count": 11,
     "metadata": {},
     "output_type": "execute_result"
    }
   ],
   "source": [
    "# Load the trained model\n",
    "model.load_state_dict(torch.load('../mnist_model.pth', map_location=device))\n",
    "model.eval()  # Set model to evaluation mode"
   ]
  },
  {
   "cell_type": "code",
   "execution_count": 13,
   "id": "266d00c9-a603-49c5-a8ef-711e05a2fe8d",
   "metadata": {},
   "outputs": [
    {
     "data": {
      "image/png": "[encoded data removed]",
      "text/plain": [
       "<Figure size 640x480 with 1 Axes>"
      ]
     },
     "metadata": {},
     "output_type": "display_data"
    }
   ],
   "source": [
    "# Run Inference on a Test Image\n",
    "test_iter = iter(test_loader)\n",
    "images, labels = next(test_iter)\n",
    "images, labels = images.to(device), labels.to(device)\n",
    "\n",
    "for i in range(0,10):\n",
    "    # Select a single image from the batch\n",
    "    image = images[i].cpu().squeeze()  # Use the first image in the batch\n",
    "    label = labels[i].cpu()  # Get the actual label of the first image\n",
    "    \n",
    "    # Flatten the image before feeding it into the model\n",
    "    image_flat = image.view(1, -1)\n",
    "    \n",
    "    # Perform inference with no gradient computation\n",
    "    with torch.no_grad():\n",
    "        output = model(image_flat.to(device))  # Feed the image through the model\n",
    "        _, predicted = torch.max(output, 1)  # Get the predicted class\n",
    "    \n",
    "    # Visualize the image\n",
    "    plt.imshow(image, cmap='gray')\n",
    "    plt.title(f'Predicted: {predicted.item()}, Actual: {label.item()}')\n",
    "    plt.axis('off')  # Hide axes\n",
    "    plt.show()"
   ]
  },
  {
   "cell_type": "code",
   "execution_count": null,
   "id": "49d62bd7-c72a-4f07-a7fd-2def58843c24",
   "metadata": {},
   "outputs": [],
   "source": []
  }
 ],
 "metadata": {
  "kernelspec": {
   "display_name": "Python 3 (ipykernel)",
   "language": "python",
   "name": "python3"
  },
  "language_info": {
   "codemirror_mode": {
    "name": "ipython",
    "version": 3
   },
   "file_extension": ".py",
   "mimetype": "text/x-python",
   "name": "python",
   "nbconvert_exporter": "python",
   "pygments_lexer": "ipython3",
   "version": "3.10.16"
  }
 },
 "nbformat": 4,
 "nbformat_minor": 5
}
